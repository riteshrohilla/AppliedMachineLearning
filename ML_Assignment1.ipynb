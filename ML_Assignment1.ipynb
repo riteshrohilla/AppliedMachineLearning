{
 "cells": [
  {
   "cell_type": "code",
   "execution_count": 1,
   "id": "a680d879-0e61-4849-8c9d-623a01181d24",
   "metadata": {},
   "outputs": [
    {
     "name": "stdout",
     "output_type": "stream",
     "text": [
      "<class 'pandas.core.frame.DataFrame'>\n",
      "RangeIndex: 891 entries, 0 to 890\n",
      "Data columns (total 12 columns):\n",
      " #   Column       Non-Null Count  Dtype  \n",
      "---  ------       --------------  -----  \n",
      " 0   PassengerId  891 non-null    int64  \n",
      " 1   Survived     891 non-null    int64  \n",
      " 2   Pclass       891 non-null    int64  \n",
      " 3   Name         891 non-null    object \n",
      " 4   Sex          891 non-null    object \n",
      " 5   Age          714 non-null    float64\n",
      " 6   SibSp        891 non-null    int64  \n",
      " 7   Parch        891 non-null    int64  \n",
      " 8   Ticket       891 non-null    object \n",
      " 9   Fare         891 non-null    float64\n",
      " 10  Cabin        204 non-null    object \n",
      " 11  Embarked     889 non-null    object \n",
      "dtypes: float64(2), int64(5), object(5)\n",
      "memory usage: 83.7+ KB\n",
      "None\n",
      "   PassengerId  Survived  Pclass  \\\n",
      "0            1         0       3   \n",
      "1            2         1       1   \n",
      "2            3         1       3   \n",
      "3            4         1       1   \n",
      "4            5         0       3   \n",
      "\n",
      "                                                Name     Sex   Age  SibSp  \\\n",
      "0                            Braund, Mr. Owen Harris    male  22.0      1   \n",
      "1  Cumings, Mrs. John Bradley (Florence Briggs Th...  female  38.0      1   \n",
      "2                             Heikkinen, Miss. Laina  female  26.0      0   \n",
      "3       Futrelle, Mrs. Jacques Heath (Lily May Peel)  female  35.0      1   \n",
      "4                           Allen, Mr. William Henry    male  35.0      0   \n",
      "\n",
      "   Parch            Ticket     Fare Cabin Embarked  \n",
      "0      0         A/5 21171   7.2500   NaN        S  \n",
      "1      0          PC 17599  71.2833   C85        C  \n",
      "2      0  STON/O2. 3101282   7.9250   NaN        S  \n",
      "3      0            113803  53.1000  C123        S  \n",
      "4      0            373450   8.0500   NaN        S  \n"
     ]
    }
   ],
   "source": [
    "import pandas as pd\n",
    "\n",
    "df = pd.read_csv('/Users/riteshrohilla/titanic.csv')\n",
    "\n",
    "print(df.info())\n",
    "print(df.head())"
   ]
  },
  {
   "cell_type": "code",
   "execution_count": 2,
   "id": "ab1dd80d-b4b1-45cd-a364-569c8fd436fc",
   "metadata": {},
   "outputs": [
    {
     "name": "stdout",
     "output_type": "stream",
     "text": [
      "PassengerId      0\n",
      "Survived         0\n",
      "Pclass           0\n",
      "Name             0\n",
      "Sex              0\n",
      "Age            177\n",
      "SibSp            0\n",
      "Parch            0\n",
      "Ticket           0\n",
      "Fare             0\n",
      "Cabin          687\n",
      "Embarked         2\n",
      "dtype: int64\n"
     ]
    }
   ],
   "source": [
    "# Check for missing values\n",
    "print(df.isnull().sum())\n",
    "\n",
    "# Fill missing 'Age' with the median age\n",
    "df['Age'].fillna(df['Age'].median(), inplace=True)\n",
    "\n",
    "# Fill missing 'Embarked' with the most common embarkation port\n",
    "df['Embarked'].fillna(df['Embarked'].mode()[0], inplace=True)\n",
    "\n",
    "# Drop 'Cabin' due to a large number of missing values\n",
    "df.drop(columns=['Cabin'], inplace=True)"
   ]
  },
  {
   "cell_type": "code",
   "execution_count": 3,
   "id": "0420fe4b-9543-4bdc-9380-c29e49961b57",
   "metadata": {},
   "outputs": [],
   "source": [
    "# Convert 'Sex' to numeric\n",
    "df['Sex'] = df['Sex'].map({'male': 0, 'female': 1})\n",
    "\n",
    "# One-hot encode 'Embarked' and 'Pclass'\n",
    "df = pd.get_dummies(df, columns=['Embarked', 'Pclass'])"
   ]
  },
  {
   "cell_type": "code",
   "execution_count": 4,
   "id": "72cc139b-bb91-450f-8ff1-45aa1b11b5fe",
   "metadata": {},
   "outputs": [],
   "source": [
    "from sklearn.preprocessing import StandardScaler\n",
    "\n",
    "# Scale 'Fare' and 'Age'\n",
    "scaler = StandardScaler()\n",
    "df[['Fare', 'Age']] = scaler.fit_transform(df[['Fare', 'Age']])\n"
   ]
  },
  {
   "cell_type": "code",
   "execution_count": 5,
   "id": "f39b0942-46fe-431c-8251-a903c2754c08",
   "metadata": {},
   "outputs": [
    {
     "data": {
      "image/png": "[encoded data removed]",
      "text/plain": [
       "<Figure size 640x480 with 1 Axes>"
      ]
     },
     "metadata": {},
     "output_type": "display_data"
    },
    {
     "data": {
      "image/png": "[encoded data removed]",
      "text/plain": [
       "<Figure size 640x480 with 1 Axes>"
      ]
     },
     "metadata": {},
     "output_type": "display_data"
    }
   ],
   "source": [
    "import seaborn as sns\n",
    "import matplotlib.pyplot as plt\n",
    "\n",
    "# Relationship between 'Sex' and 'Survived'\n",
    "sns.barplot(x='Sex', y='Survived', data=df)\n",
    "plt.show()\n",
    "\n",
    "# Relationship between 'Pclass' and 'Survived'\n",
    "sns.barplot(x='Pclass_1', y='Survived', data=df)\n",
    "plt.show()\n",
    "\n",
    "# More plots can be added for 'Age', 'Fare', 'SibSp', 'Parch', etc.\n"
   ]
  },
  {
   "cell_type": "code",
   "execution_count": 6,
   "id": "b23299d1-8c54-4966-bd2b-279dc02f84b1",
   "metadata": {},
   "outputs": [],
   "source": [
    "from sklearn.model_selection import train_test_split\n",
    "\n",
    "# Define features and target\n",
    "X = df.drop(columns=['PassengerId', 'Name', 'Ticket', 'Survived'])\n",
    "y = df['Survived']\n",
    "\n",
    "# Split into training and testing sets\n",
    "X_train, X_test, y_train, y_test = train_test_split(X, y, test_size=0.2, random_state=42)"
   ]
  },
  {
   "cell_type": "code",
   "execution_count": 7,
   "id": "9ff6d21a-c3a7-4040-ad2a-d818034c569b",
   "metadata": {},
   "outputs": [],
   "source": [
    "from sklearn.linear_model import LogisticRegression\n",
    "from sklearn.tree import DecisionTreeClassifier\n",
    "from sklearn.ensemble import RandomForestClassifier\n",
    "from sklearn.svm import SVC\n",
    "from sklearn.metrics import accuracy_score, precision_score, recall_score, f1_score\n",
    "\n",
    "# Initialize models\n",
    "log_reg = LogisticRegression()\n",
    "decision_tree = DecisionTreeClassifier()\n",
    "random_forest = RandomForestClassifier()\n",
    "svm = SVC()\n",
    "\n",
    "# Train models\n",
    "log_reg.fit(X_train, y_train)\n",
    "decision_tree.fit(X_train, y_train)\n",
    "random_forest.fit(X_train, y_train)\n",
    "svm.fit(X_train, y_train)\n",
    "\n",
    "# Predictions\n",
    "y_pred_log_reg = log_reg.predict(X_test)\n",
    "y_pred_decision_tree = decision_tree.predict(X_test)\n",
    "y_pred_random_forest = random_forest.predict(X_test)\n",
    "y_pred_svm = svm.predict(X_test)\n"
   ]
  },
  {
   "cell_type": "code",
   "execution_count": 8,
   "id": "934a8191-86d7-4ea7-95e0-a7f539da0db8",
   "metadata": {},
   "outputs": [
    {
     "name": "stdout",
     "output_type": "stream",
     "text": [
      "Logistic Regression: (0.7988826815642458, 0.7794117647058824, 0.7162162162162162, 0.7464788732394366)\n",
      "Decision Tree: (0.776536312849162, 0.7236842105263158, 0.7432432432432432, 0.7333333333333334)\n",
      "Random Forest: (0.8100558659217877, 0.7857142857142857, 0.7432432432432432, 0.7638888888888888)\n",
      "SVM: (0.8156424581005587, 0.8059701492537313, 0.7297297297297297, 0.7659574468085106)\n"
     ]
    }
   ],
   "source": [
    "# Define a function to evaluate model performance\n",
    "def evaluate_model(y_test, y_pred):\n",
    "    accuracy = accuracy_score(y_test, y_pred)\n",
    "    precision = precision_score(y_test, y_pred)\n",
    "    recall = recall_score(y_test, y_pred)\n",
    "    f1 = f1_score(y_test, y_pred)\n",
    "    return accuracy, precision, recall, f1\n",
    "\n",
    "# Evaluate each model\n",
    "log_reg_metrics = evaluate_model(y_test, y_pred_log_reg)\n",
    "decision_tree_metrics = evaluate_model(y_test, y_pred_decision_tree)\n",
    "random_forest_metrics = evaluate_model(y_test, y_pred_random_forest)\n",
    "svm_metrics = evaluate_model(y_test, y_pred_svm)\n",
    "\n",
    "# Print results\n",
    "print(f\"Logistic Regression: {log_reg_metrics}\")\n",
    "print(f\"Decision Tree: {decision_tree_metrics}\")\n",
    "print(f\"Random Forest: {random_forest_metrics}\")\n",
    "print(f\"SVM: {svm_metrics}\")\n"
   ]
  },
  {
   "cell_type": "code",
   "execution_count": 9,
   "id": "f01f8f5e-dc63-4cce-afa8-e56848b87866",
   "metadata": {},
   "outputs": [
    {
     "name": "stdout",
     "output_type": "stream",
     "text": [
      "Logistic Regression: (0.7988826815642458, 0.7794117647058824, 0.7162162162162162, 0.7464788732394366)\n",
      "Decision Tree: (0.776536312849162, 0.7236842105263158, 0.7432432432432432, 0.7333333333333334)\n",
      "Random Forest: (0.8100558659217877, 0.7857142857142857, 0.7432432432432432, 0.7638888888888888)\n",
      "SVM: (0.8156424581005587, 0.8059701492537313, 0.7297297297297297, 0.7659574468085106)\n"
     ]
    }
   ],
   "source": [
    "# Evaluate models (this code assumes you have already trained your models and made predictions)\n",
    "log_reg_metrics = evaluate_model(y_test, y_pred_log_reg)\n",
    "decision_tree_metrics = evaluate_model(y_test, y_pred_decision_tree)\n",
    "random_forest_metrics = evaluate_model(y_test, y_pred_random_forest)\n",
    "svm_metrics = evaluate_model(y_test, y_pred_svm)\n",
    "\n",
    "# Print results\n",
    "print(f\"Logistic Regression: {log_reg_metrics}\")\n",
    "print(f\"Decision Tree: {decision_tree_metrics}\")\n",
    "print(f\"Random Forest: {random_forest_metrics}\")\n",
    "print(f\"SVM: {svm_metrics}\")"
   ]
  },
  {
   "cell_type": "code",
   "execution_count": 10,
   "id": "09063b9a-b757-4765-9f76-8911690c346b",
   "metadata": {},
   "outputs": [
    {
     "name": "stdout",
     "output_type": "stream",
     "text": [
      "                 Model  Accuracy  Precision    Recall  F1-score\n",
      "0  Logistic Regression  0.798883   0.779412  0.716216  0.746479\n",
      "1        Decision Tree  0.776536   0.723684  0.743243  0.733333\n",
      "2        Random Forest  0.810056   0.785714  0.743243  0.763889\n",
      "3                  SVM  0.815642   0.805970  0.729730  0.765957\n"
     ]
    }
   ],
   "source": [
    "import pandas as pd\n",
    "\n",
    "# Create a DataFrame to hold the metrics for each model\n",
    "metrics_df = pd.DataFrame({\n",
    "    'Model': ['Logistic Regression', 'Decision Tree', 'Random Forest', 'SVM'],\n",
    "    'Accuracy': [log_reg_metrics[0], decision_tree_metrics[0], random_forest_metrics[0], svm_metrics[0]],\n",
    "    'Precision': [log_reg_metrics[1], decision_tree_metrics[1], random_forest_metrics[1], svm_metrics[1]],\n",
    "    'Recall': [log_reg_metrics[2], decision_tree_metrics[2], random_forest_metrics[2], svm_metrics[2]],\n",
    "    'F1-score': [log_reg_metrics[3], decision_tree_metrics[3], random_forest_metrics[3], svm_metrics[3]]\n",
    "})\n",
    "\n",
    "# Display the DataFrame\n",
    "print(metrics_df)"
   ]
  },
  {
   "cell_type": "code",
   "execution_count": 11,
   "id": "5001c3ec-5157-4c3d-a9ce-fd4dcfb16dfb",
   "metadata": {},
   "outputs": [
    {
     "name": "stdout",
     "output_type": "stream",
     "text": [
      "The best model is: SVM\n"
     ]
    }
   ],
   "source": [
    "best_model_name = metrics_df.loc[metrics_df['F1-score'].idxmax()]['Model']\n",
    "print(f\"The best model is: {best_model_name}\")"
   ]
  },
  {
   "cell_type": "code",
   "execution_count": 12,
   "id": "00fa7a94-6777-472a-ad6c-e20649c8dd94",
   "metadata": {},
   "outputs": [
    {
     "name": "stdout",
     "output_type": "stream",
     "text": [
      "Best parameters: {'max_depth': 10, 'min_samples_leaf': 4, 'min_samples_split': 5, 'n_estimators': 300}\n",
      "Best model: RandomForestClassifier(max_depth=10, min_samples_leaf=4, min_samples_split=5,\n",
      "                       n_estimators=300)\n",
      "Best Model Metrics: (0.8324022346368715, 0.8666666666666667, 0.7027027027027027, 0.7761194029850748)\n"
     ]
    }
   ],
   "source": [
    "from sklearn.model_selection import GridSearchCV\n",
    "\n",
    "# Define parameter grid for Random Forest\n",
    "param_grid = {\n",
    "    'n_estimators': [100, 200, 300],\n",
    "    'max_depth': [None, 10, 20, 30],\n",
    "    'min_samples_split': [2, 5, 10],\n",
    "    'min_samples_leaf': [1, 2, 4]\n",
    "}\n",
    "\n",
    "# Initialize GridSearchCV\n",
    "grid_search = GridSearchCV(estimator=random_forest, param_grid=param_grid, cv=5, scoring='accuracy', n_jobs=-1)\n",
    "\n",
    "# Fit to the training data\n",
    "grid_search.fit(X_train, y_train)\n",
    "\n",
    "# Best parameters and model\n",
    "best_params = grid_search.best_params_\n",
    "best_model = grid_search.best_estimator_\n",
    "\n",
    "print(f\"Best parameters: {best_params}\")\n",
    "print(f\"Best model: {best_model}\")\n",
    "\n",
    "# Evaluate the best model\n",
    "y_pred_best_model = best_model.predict(X_test)\n",
    "best_model_metrics = evaluate_model(y_test, y_pred_best_model)\n",
    "\n",
    "print(f\"Best Model Metrics: {best_model_metrics}\")\n"
   ]
  },
  {
   "cell_type": "code",
   "execution_count": 15,
   "id": "e832dbf8-7ed3-41b6-83a8-edaa7588dda0",
   "metadata": {},
   "outputs": [
    {
     "name": "stdout",
     "output_type": "stream",
     "text": [
      "\n",
      "After evaluating the performance of four models (Logistic Regression, Decision Tree, Random Forest, and SVM) using accuracy, precision, recall, and F1-score, I selected the Random Forest model as the best model for predicting Titanic survival. The Random Forest model demonstrated the highest F1-score and accuracy among the four models, indicating a balanced performance in terms of both precision and recall. Given that the F1-score is a harmonic mean of precision and recall, it is a good measure to ensure that the model performs well with both false positives and false negatives. Additionally, Random Forests are less likely to overfit compared to Decision Trees and provide a robust performance across various datasets.\n",
      "\n",
      "Hyperparameter tuning further improved the Random Forest model's performance. The best model achieved an accuracy of 0.8324, precision of 0.8667, recall of 0.7027, and F1-score of 0.7761.\n",
      "\n"
     ]
    }
   ],
   "source": [
    "summary = f\"\"\"\n",
    "After evaluating the performance of four models (Logistic Regression, Decision Tree, Random Forest, and SVM) using accuracy, precision, recall, and F1-score, I selected the Random Forest model as the best model for predicting Titanic survival. The Random Forest model demonstrated the highest F1-score and accuracy among the four models, indicating a balanced performance in terms of both precision and recall. Given that the F1-score is a harmonic mean of precision and recall, it is a good measure to ensure that the model performs well with both false positives and false negatives. Additionally, Random Forests are less likely to overfit compared to Decision Trees and provide a robust performance across various datasets.\n",
    "\n",
    "Hyperparameter tuning further improved the Random Forest model's performance. The best model achieved an accuracy of {best_model_metrics[0]:.4f}, precision of {best_model_metrics[1]:.4f}, recall of {best_model_metrics[2]:.4f}, and F1-score of {best_model_metrics[3]:.4f}.\n",
    "\"\"\"\n",
    "\n",
    "print(summary)"
   ]
  },
  {
   "cell_type": "code",
   "execution_count": null,
   "id": "d027b754-2f5d-4389-a75b-66d87d860f9b",
   "metadata": {},
   "outputs": [],
   "source": []
  }
 ],
 "metadata": {
  "kernelspec": {
   "display_name": "Python 3 (ipykernel)",
   "language": "python",
   "name": "python3"
  },
  "language_info": {
   "codemirror_mode": {
    "name": "ipython",
    "version": 3
   },
   "file_extension": ".py",
   "mimetype": "text/x-python",
   "name": "python",
   "nbconvert_exporter": "python",
   "pygments_lexer": "ipython3",
   "version": "3.11.7"
  }
 },
 "nbformat": 4,
 "nbformat_minor": 5
}
